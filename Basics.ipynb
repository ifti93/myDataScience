{
 "cells": [
  {
   "cell_type": "code",
   "execution_count": 2,
   "metadata": {
    "collapsed": false
   },
   "outputs": [
    {
     "data": {
      "text/plain": [
       "['1994,1,1,6,8096',\n",
       " '1994,1,2,7,7772',\n",
       " '1994,1,3,1,10142',\n",
       " '1994,1,4,2,11248',\n",
       " '1994,1,5,3,11053',\n",
       " '1994,1,6,4,11406',\n",
       " '1994,1,7,5,11251',\n",
       " '1994,1,8,6,8653',\n",
       " '1994,1,9,7,7910']"
      ]
     },
     "execution_count": 2,
     "metadata": {},
     "output_type": "execute_result"
    }
   ],
   "source": [
    "f= open(\"US_births_1994-2003_CDC_NCHS.csv\", 'r')\n",
    "data= f.read()\n",
    "new_data= data.split(\"\\n\")\n",
    "new_data_first_10_values= new_data[1:11] #index 0 is header row & skipped. elements from index 1 to index 10 will be stored. 10th excluded\n",
    "new_data_first_10_values #print 10 values skipping first row/ header row"
   ]
  },
  {
   "cell_type": "code",
   "execution_count": 7,
   "metadata": {
    "collapsed": false
   },
   "outputs": [
    {
     "data": {
      "text/plain": [
       "[[1994, 1, 1, 6, 8096],\n",
       " [1994, 1, 2, 7, 7772],\n",
       " [1994, 1, 3, 1, 10142],\n",
       " [1994, 1, 4, 2, 11248],\n",
       " [1994, 1, 5, 3, 11053],\n",
       " [1994, 1, 6, 4, 11406],\n",
       " [1994, 1, 7, 5, 11251],\n",
       " [1994, 1, 8, 6, 8653],\n",
       " [1994, 1, 9, 7, 7910],\n",
       " [1994, 1, 10, 1, 10498]]"
      ]
     },
     "execution_count": 7,
     "metadata": {},
     "output_type": "execute_result"
    }
   ],
   "source": [
    "#x is a file name as string type passed into read_csv() as argument\n",
    "def read_csv(x):\n",
    "    f=open(x, 'r')\n",
    "    data= f.read()\n",
    "    lines_list= data.split(\"\\n\")\n",
    "    string_list= lines_list[1:len(lines_list)] #skip 0th index & go all the way last index. Remember, len() will give one extra element index but in slicing last index is auto skipped.\n",
    "    final_list=[] #define an empty list\n",
    "    \n",
    "    for row in string_list:\n",
    "        int_fields=[] #define empty list\n",
    "        string_fields=[] #define empty list\n",
    "        new_list= row.split(\",\") #a new list within string_list is created splitted by a comma               new_row_int= int(new_row)   \n",
    "        #loop/iterate through this new list & convert each of its element from string to integer/int data type\n",
    "        for inner_row in new_list:\n",
    "            converted_value= int(inner_row)\n",
    "            int_fields.append(converted_value)\n",
    "        final_list.append(int_fields) #append() is used to assign each element to the list.\n",
    "    \n",
    "    return final_list\n",
    "\n",
    "my_file= \"US_births_1994-2003_CDC_NCHS.csv\"\n",
    "cdc_list= read_csv(my_file)\n",
    "cdc_list[0:10] #can start from 0 because first row is already removed by the function read_csv\n"
   ]
  },
  {
   "cell_type": "code",
   "execution_count": 6,
   "metadata": {
    "collapsed": false
   },
   "outputs": [],
   "source": [
    "def month_births(l_list):\n",
    "    births_per_month= {}\n",
    "    for line in l_list:\n",
    "        month= line[1] #2nd column in the list named 'line'\n",
    "        births= line[4] #5th column in the list named 'line'\n",
    "        check_month= month in births_per_month #check is bool variable\n",
    "        if check_month==True:\n",
    "            births_per_month[month]= births_per_month[month]+births\n",
    "        else:\n",
    "            births_per_month[month]= births #month becomes key & births become value & this key/value is stored in dictionary named births_per_month\n",
    "    return births_per_month\n",
    "   \n",
    "\n",
    "    "
   ]
  },
  {
   "cell_type": "code",
   "execution_count": 4,
   "metadata": {
    "collapsed": false
   },
   "outputs": [],
   "source": [
    "f= open(\"US_births_1994-2003_CDC_NCHS.csv\",'r') #extract file & make it read-only no editing possible\n",
    "data= f.read()\n",
    "lines_list= data.split(\"\\n\") #makes new list divided on '\\n' 'new line character'\n",
    "lines_list_no_header= lines_list[1:len(lines_list)]\n",
    "final_list= []\n",
    "for row in lines_list_no_header:\n",
    "    new_list= row.split(\",\") #makes a new list divided on commas\n",
    "    final_list.append(new_list) #above list is added to an empty list. So, this will add the list to an empty list. aka list within list       \n",
    "cdc_month_births= {} #empty dictionary\n",
    "#cdc_month_births= month_births(final_list)\n",
    "#cdc_month_births"
   ]
  },
  {
   "cell_type": "code",
   "execution_count": 8,
   "metadata": {
    "collapsed": false
   },
   "outputs": [
    {
     "data": {
      "text/plain": [
       "{'1': 3232517,\n",
       " '10': 3378814,\n",
       " '11': 3171647,\n",
       " '12': 3301860,\n",
       " '2': 3018140,\n",
       " '3': 3322069,\n",
       " '4': 3185314,\n",
       " '5': 3350907,\n",
       " '6': 3296530,\n",
       " '7': 3498783,\n",
       " '8': 3525858,\n",
       " '9': 3439698}"
      ]
     },
     "execution_count": 8,
     "metadata": {},
     "output_type": "execute_result"
    }
   ],
   "source": [
    "def month_births(l_list):\n",
    "    births_per_month= {}\n",
    "    for line in l_list:\n",
    "        month= line[1] #2nd column in the list named 'line'\n",
    "        births= int(line[4]) #5th column in the list named 'line'\n",
    "        check_month= month in births_per_month #check is bool variable\n",
    "        if check_month==True:\n",
    "            births_per_month[month]= births_per_month[month]+births\n",
    "        else:\n",
    "            births_per_month[month]= births #month becomes key & births become value & this key/value is stored in dictionary named births_per_month\n",
    "    return births_per_month\n",
    "\n",
    "f= open(\"US_births_1994-2003_CDC_NCHS.csv\",'r') #extract file & make it read-only no editing possible\n",
    "data= f.read()\n",
    "lines_list= data.split(\"\\n\") #makes new list divided on '\\n' 'new line character'\n",
    "lines_list_no_header= lines_list[1:len(lines_list)]\n",
    "final_list= []\n",
    "for row in lines_list_no_header:\n",
    "    new_list= row.split(\",\") #makes a new list divided on commas\n",
    "    final_list.append(new_list) #above list is added to an empty list. So, this will add the list to an empty list. aka list within list       \n",
    "cdc_month_births= {} #empty dictionary\n",
    "cdc_month_births= month_births(final_list)\n",
    "cdc_month_births #print \n",
    "\n",
    "#all in one cell "
   ]
  },
  {
   "cell_type": "code",
   "execution_count": 9,
   "metadata": {
    "collapsed": false
   },
   "outputs": [
    {
     "data": {
      "text/plain": [
       "{'1': 3232517,\n",
       " '10': 3378814,\n",
       " '11': 3171647,\n",
       " '12': 3301860,\n",
       " '2': 3018140,\n",
       " '3': 3322069,\n",
       " '4': 3185314,\n",
       " '5': 3350907,\n",
       " '6': 3296530,\n",
       " '7': 3498783,\n",
       " '8': 3525858,\n",
       " '9': 3439698}"
      ]
     },
     "execution_count": 9,
     "metadata": {},
     "output_type": "execute_result"
    }
   ],
   "source": [
    "f= open(\"US_births_1994-2003_CDC_NCHS.csv\",'r') #extract file & make it read-only no editing possible\n",
    "data= f.read()\n",
    "lines_list= data.split(\"\\n\") #makes new list divided on '\\n' 'new line character'\n",
    "lines_list_no_header= lines_list[1:len(lines_list)]\n",
    "final_list= []\n",
    "for row in lines_list_no_header:\n",
    "    new_list= row.split(\",\")\n",
    "    new_int= int(new_list[4])\n",
    "    final_list.append(new_list) #above list is added to an empty list. So, this will add the list to an empty list. aka list within list       \n",
    "\n",
    "cdc_month_births= {} #empty dictionary\n",
    "cdc_month_births= month_births(final_list) #final_list is passed as argument to month_births() function as l_list\n",
    "cdc_month_births #print \n",
    "\n",
    "#month_births() is not defined in this cell but in one of the above cells. So \n",
    "#in jupyter notebook its possible to invoke/call the code written in previous cells.\n",
    "#this makes coding in jupyter clean & organized. & best part every cell can display output. Just like following cell."
   ]
  },
  {
   "cell_type": "code",
   "execution_count": 4,
   "metadata": {
    "collapsed": false
   },
   "outputs": [],
   "source": [
    "def dow_births(l_list):\n",
    "    new_dict= {} #dictionary\n",
    "    for line in l_list:\n",
    "        day_of_week= line[3] #refers to 4th column of the inner list \"line\"\n",
    "        births= int(line[4])\n",
    "        check= day_of_week in day_births #check has bool value\n",
    "        if check == True:    \n",
    "            new_dict[day_of_week]= new_dict[day_of_week]+births #1\n",
    "        else:\n",
    "            new_dict[day_of_week]= births\n",
    "            \n",
    "        return new_dict #new dict contains total no of births for each key \"day_of_week\".\n",
    "\n",
    "#1 lets say day_of_week= 5 then new_dict[5] will display number of births on 5th day of week & then that value is added to new number of births"
   ]
  },
  {
   "cell_type": "code",
   "execution_count": 11,
   "metadata": {
    "collapsed": false
   },
   "outputs": [
    {
     "data": {
      "text/plain": [
       "{'1': 5789166,\n",
       " '2': 6446196,\n",
       " '3': 6322855,\n",
       " '4': 6288429,\n",
       " '5': 6233657,\n",
       " '6': 4562111,\n",
       " '7': 4079723}"
      ]
     },
     "execution_count": 11,
     "metadata": {},
     "output_type": "execute_result"
    }
   ],
   "source": [
    "def dow_births(l_list):\n",
    "    new_dict= {} #dictionary\n",
    "    for line in l_list:\n",
    "        day_of_week= line[3] #refers to 4th column of the inner list \"line\" which is day_of_week column\n",
    "        births= int(line[4])\n",
    "        check_day= day_of_week in new_dict #check has bool value\n",
    "        if check_day == True:    \n",
    "            new_dict[day_of_week]= new_dict[day_of_week]+births #1\n",
    "        else:\n",
    "            new_dict[day_of_week]= births\n",
    "            \n",
    "    return new_dict #new dict contains total no of births for each key \"day_of_week\".\n",
    "\n",
    "#1 lets say day_of_week= 5 then new_dict[5] will display number of births on 5th day of week & then that value is added to new number of birth\n",
    "\n",
    "\n",
    "\n",
    "\n",
    "\n",
    "f= open(\"US_births_1994-2003_CDC_NCHS.csv\",'r') #extract file & make it read-only no editing possible\n",
    "data= f.read()\n",
    "lines_list= data.split(\"\\n\") #makes new list divided on '\\n' 'new line character'\n",
    "lines_list_no_header= lines_list[1:len(lines_list)]\n",
    "final_list= []\n",
    "for row in lines_list_no_header:\n",
    "    new_list= row.split(\",\")\n",
    "    final_list.append(new_list) #above list is added to an empty list. So, this will add the list to an empty list. aka list within list       \n",
    "\n",
    "cdc_day_births= {} #empty dictionary\n",
    "cdc_day_births= dow_births(final_list) #final_list is passed as argument to month_births() function as l_list\n",
    "cdc_day_births #print \n"
   ]
  },
  {
   "cell_type": "code",
   "execution_count": 13,
   "metadata": {
    "collapsed": false
   },
   "outputs": [
    {
     "name": "stdout",
     "output_type": "stream",
     "text": [
      "yearly totals= {'2000': 4058814, '1995': 3899589, '1994': 3952767, '1997': 3880894, '2003': 4089950, '1998': 3941553, '1999': 3959417, '2001': 4025933, '1996': 3891494, '2002': 4021726}\n",
      "monthly totals= {'6': 3296530, '4': 3185314, '11': 3171647, '10': 3378814, '8': 3525858, '3': 3322069, '2': 3018140, '1': 3232517, '9': 3439698, '5': 3350907, '12': 3301860, '7': 3498783}\n",
      "day-of-month totals= {'6': 1304474, '4': 1288154, '16': 1315192, '8': 1312297, '28': 1307685, '3': 1304499, '18': 1326855, '9': 1303292, '29': 1223161, '23': 1293290, '12': 1318437, '24': 1288083, '21': 1322897, '15': 1319171, '13': 1277684, '20': 1324821, '26': 1284796, '11': 1314361, '10': 1320764, '7': 1310459, '25': 1272116, '2': 1288739, '1': 1276557, '27': 1294395, '19': 1318727, '5': 1299953, '17': 1324953, '22': 1317381, '14': 1320153, '30': 1202095, '31': 746696}\n",
      "day-of-week totals= {'6': 4562111, '4': 6288429, '5': 6233657, '7': 4079723, '3': 6322855, '2': 6446196, '1': 5789166}\n"
     ]
    }
   ],
   "source": [
    "\n",
    "def calc_counts(l_list,column): #l_list is a list, column is the index number. Eg, 0 means 1st column, & 1 means 2nd,...\n",
    "    new_dict= {} #dictionary\n",
    "    for line in l_list:\n",
    "        column_name= line[column]\n",
    "        births= int(line[4])\n",
    "        check_day= column_name in new_dict #check has bool value\n",
    "        if check_day == True:    \n",
    "            new_dict[column_name]= new_dict[column_name]+births #1\n",
    "        else:\n",
    "            new_dict[column_name]= births\n",
    "            \n",
    "    return new_dict\n",
    "\n",
    "\n",
    "f= open(\"US_births_1994-2003_CDC_NCHS.csv\",'r') #extract file & make it read-only no editing possible\n",
    "data= f.read()\n",
    "lines_list= data.split(\"\\n\") #makes new list divided on '\\n' 'new line character'\n",
    "lines_list_no_header= lines_list[1:len(lines_list)]\n",
    "final_list= []\n",
    "for row in lines_list_no_header:\n",
    "    new_list= row.split(\",\")\n",
    "    final_list.append(new_list) #above list is added to an empty list. So, this will add the list to an empty list. aka list within list       \n",
    "\n",
    "\n",
    "cdc_year_births= calc_counts(final_list, 0) #pass final_list & find births according to column 0 which is 1st column in final_list (year)\n",
    "print(\"yearly totals= \"+ str(cdc_year_births))\n",
    "\n",
    "cdc_month_births= calc_counts(final_list, 1)\n",
    "print(\"monthly totals= \"+ str(cdc_month_births))\n",
    "\n",
    "cdc_dom_births= calc_counts(final_list, 2) #dom is 3rd column aka date_of_month (dom)\n",
    "print(\"day-of-month totals= \"+ str(cdc_dom_births) )\n",
    "\n",
    "cdc_dow_births= calc_counts(final_list, 3) #day_of_week (dow) \n",
    "print(\"day-of-week totals= \"+ str(cdc_dow_births))\n",
    "\n",
    "\n"
   ]
  },
  {
   "cell_type": "code",
   "execution_count": null,
   "metadata": {
    "collapsed": true
   },
   "outputs": [],
   "source": []
  }
 ],
 "metadata": {
  "anaconda-cloud": {},
  "kernelspec": {
   "display_name": "Python 3",
   "language": "python",
   "name": "python3"
  },
  "language_info": {
   "codemirror_mode": {
    "name": "ipython",
    "version": 3
   },
   "file_extension": ".py",
   "mimetype": "text/x-python",
   "name": "python",
   "nbconvert_exporter": "python",
   "pygments_lexer": "ipython3",
   "version": "3.4.3"
  }
 },
 "nbformat": 4,
 "nbformat_minor": 1
}
